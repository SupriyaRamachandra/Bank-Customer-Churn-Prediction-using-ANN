{
 "cells": [
  {
   "cell_type": "markdown",
   "id": "gorgeous-desktop",
   "metadata": {},
   "source": [
    "# CSCI 5931: Deep Learning\n",
    "## Program to run the trained model on judge dataset \n",
    "### Submitted By: Supriya Ramachandra"
   ]
  },
  {
   "cell_type": "markdown",
   "id": "charged-flexibility",
   "metadata": {},
   "source": [
    "### Import Libraries "
   ]
  },
  {
   "cell_type": "code",
   "execution_count": 1,
   "id": "spread-thong",
   "metadata": {},
   "outputs": [],
   "source": [
    "import pandas as pd \n",
    "import numpy as np\n",
    "from sklearn.model_selection import train_test_split\n",
    "from sklearn.preprocessing import LabelEncoder\n",
    "from sklearn.preprocessing import StandardScaler\n",
    "from tensorflow import keras"
   ]
  },
  {
   "cell_type": "markdown",
   "id": "substantial-penny",
   "metadata": {},
   "source": [
    "### Load and preprocess judge dataset "
   ]
  },
  {
   "cell_type": "code",
   "execution_count": 2,
   "id": "billion-rachel",
   "metadata": {},
   "outputs": [],
   "source": [
    "filename = 'C:/Users/prati/OneDrive/Desktop/Sem 4/Deep Learning/Assignment 1/judge.csv'"
   ]
  },
  {
   "cell_type": "code",
   "execution_count": 3,
   "id": "monetary-february",
   "metadata": {},
   "outputs": [],
   "source": [
    "class data_preprocess:\n",
    "    def __init__(self,file_name=None):\n",
    "        self.file_name = file_name\n",
    "    def load_data(self):\n",
    "        customer_data = pd.read_csv(self.file_name)\n",
    "        return customer_data\n",
    "    def categorical_data(self,X):\n",
    "        label1 = LabelEncoder()\n",
    "        X['Geography'] = label1.fit_transform(X['Geography'])\n",
    "        label = LabelEncoder()\n",
    "        X['Gender'] = label.fit_transform(X['Gender'])\n",
    "        X = pd.get_dummies(X, drop_first=True, columns=['Geography'])\n",
    "        return X"
   ]
  },
  {
   "cell_type": "code",
   "execution_count": 4,
   "id": "adopted-accuracy",
   "metadata": {},
   "outputs": [
    {
     "name": "stdout",
     "output_type": "stream",
     "text": [
      "Index(['CustomerId', 'Surname', 'CreditScore', 'Geography', 'Gender', 'Age',\n",
      "       'Tenure', 'Balance', 'NumOfProducts', 'HasCrCard', 'IsActiveMember',\n",
      "       'EstimatedSalary'],\n",
      "      dtype='object')\n"
     ]
    }
   ],
   "source": [
    "dp = data_preprocess(filename)\n",
    "judge_data = dp.load_data()\n",
    "print(judge_data.columns)"
   ]
  },
  {
   "cell_type": "code",
   "execution_count": 5,
   "id": "ambient-trading",
   "metadata": {},
   "outputs": [
    {
     "name": "stdout",
     "output_type": "stream",
     "text": [
      "(1000, 11)\n"
     ]
    }
   ],
   "source": [
    "judge_data_new = judge_data.drop(['CustomerId','Surname'],axis=1)\n",
    "X = dp.categorical_data(judge_data_new)\n",
    "print(X.shape)"
   ]
  },
  {
   "cell_type": "code",
   "execution_count": 6,
   "id": "antique-thumbnail",
   "metadata": {},
   "outputs": [
    {
     "data": {
      "text/plain": [
       "(1000, 11)"
      ]
     },
     "execution_count": 6,
     "metadata": {},
     "output_type": "execute_result"
    }
   ],
   "source": [
    "sc = StandardScaler()\n",
    "X = sc.fit_transform(X)\n",
    "X.shape"
   ]
  },
  {
   "cell_type": "markdown",
   "id": "available-smell",
   "metadata": {},
   "source": [
    "### Run the Artifical Neural Network models trained in training_code on judge dataset and save as judge_pred.csv  "
   ]
  },
  {
   "cell_type": "markdown",
   "id": "blessed-russian",
   "metadata": {},
   "source": [
    "### ANN_model_1"
   ]
  },
  {
   "cell_type": "code",
   "execution_count": 7,
   "id": "framed-accident",
   "metadata": {},
   "outputs": [],
   "source": [
    "model1 = keras.models.load_model('ANN_model_1.h5')"
   ]
  },
  {
   "cell_type": "code",
   "execution_count": 8,
   "id": "acoustic-interim",
   "metadata": {},
   "outputs": [],
   "source": [
    "predicted_values = model1.predict(X)"
   ]
  },
  {
   "cell_type": "code",
   "execution_count": 9,
   "id": "indoor-emperor",
   "metadata": {},
   "outputs": [],
   "source": [
    "judge_data['Exited'] = np.round(predicted_values, 1)\n",
    "judge_data.loc[judge_data['Exited'] < 0.5, 'Exited'] = 0\n",
    "judge_data.loc[judge_data['Exited'] >= 0.5, 'Exited'] = 1\n",
    "judge_data['Exited']= judge_data['Exited'].apply(np.int64)"
   ]
  },
  {
   "cell_type": "markdown",
   "id": "indoor-league",
   "metadata": {},
   "source": [
    "### As per assignment requirement only customer Id and Exited columns are saved into judge_pred.csv in the same order as judge.csv"
   ]
  },
  {
   "cell_type": "code",
   "execution_count": 10,
   "id": "involved-projection",
   "metadata": {},
   "outputs": [],
   "source": [
    "df = pd.DataFrame(judge_data, columns = ['CustomerId', 'Exited']) "
   ]
  },
  {
   "cell_type": "code",
   "execution_count": 11,
   "id": "bulgarian-privilege",
   "metadata": {},
   "outputs": [],
   "source": [
    "df.to_csv('judge_pred.csv',index=False)"
   ]
  },
  {
   "cell_type": "code",
   "execution_count": 12,
   "id": "abandoned-navigator",
   "metadata": {},
   "outputs": [
    {
     "data": {
      "text/html": [
       "<div>\n",
       "<style scoped>\n",
       "    .dataframe tbody tr th:only-of-type {\n",
       "        vertical-align: middle;\n",
       "    }\n",
       "\n",
       "    .dataframe tbody tr th {\n",
       "        vertical-align: top;\n",
       "    }\n",
       "\n",
       "    .dataframe thead th {\n",
       "        text-align: right;\n",
       "    }\n",
       "</style>\n",
       "<table border=\"1\" class=\"dataframe\">\n",
       "  <thead>\n",
       "    <tr style=\"text-align: right;\">\n",
       "      <th></th>\n",
       "      <th>CustomerId</th>\n",
       "      <th>Exited</th>\n",
       "    </tr>\n",
       "  </thead>\n",
       "  <tbody>\n",
       "    <tr>\n",
       "      <th>0</th>\n",
       "      <td>15605215</td>\n",
       "      <td>0</td>\n",
       "    </tr>\n",
       "    <tr>\n",
       "      <th>1</th>\n",
       "      <td>15567855</td>\n",
       "      <td>0</td>\n",
       "    </tr>\n",
       "    <tr>\n",
       "      <th>2</th>\n",
       "      <td>15780256</td>\n",
       "      <td>0</td>\n",
       "    </tr>\n",
       "    <tr>\n",
       "      <th>3</th>\n",
       "      <td>15592229</td>\n",
       "      <td>0</td>\n",
       "    </tr>\n",
       "    <tr>\n",
       "      <th>4</th>\n",
       "      <td>15788683</td>\n",
       "      <td>0</td>\n",
       "    </tr>\n",
       "    <tr>\n",
       "      <th>...</th>\n",
       "      <td>...</td>\n",
       "      <td>...</td>\n",
       "    </tr>\n",
       "    <tr>\n",
       "      <th>995</th>\n",
       "      <td>15747534</td>\n",
       "      <td>1</td>\n",
       "    </tr>\n",
       "    <tr>\n",
       "      <th>996</th>\n",
       "      <td>15664432</td>\n",
       "      <td>1</td>\n",
       "    </tr>\n",
       "    <tr>\n",
       "      <th>997</th>\n",
       "      <td>15726103</td>\n",
       "      <td>1</td>\n",
       "    </tr>\n",
       "    <tr>\n",
       "      <th>998</th>\n",
       "      <td>15766374</td>\n",
       "      <td>0</td>\n",
       "    </tr>\n",
       "    <tr>\n",
       "      <th>999</th>\n",
       "      <td>15684960</td>\n",
       "      <td>1</td>\n",
       "    </tr>\n",
       "  </tbody>\n",
       "</table>\n",
       "<p>1000 rows × 2 columns</p>\n",
       "</div>"
      ],
      "text/plain": [
       "     CustomerId  Exited\n",
       "0      15605215       0\n",
       "1      15567855       0\n",
       "2      15780256       0\n",
       "3      15592229       0\n",
       "4      15788683       0\n",
       "..          ...     ...\n",
       "995    15747534       1\n",
       "996    15664432       1\n",
       "997    15726103       1\n",
       "998    15766374       0\n",
       "999    15684960       1\n",
       "\n",
       "[1000 rows x 2 columns]"
      ]
     },
     "execution_count": 12,
     "metadata": {},
     "output_type": "execute_result"
    }
   ],
   "source": [
    "df"
   ]
  },
  {
   "cell_type": "code",
   "execution_count": null,
   "id": "charged-attitude",
   "metadata": {},
   "outputs": [],
   "source": []
  }
 ],
 "metadata": {
  "kernelspec": {
   "display_name": "Python 3",
   "language": "python",
   "name": "python3"
  },
  "language_info": {
   "codemirror_mode": {
    "name": "ipython",
    "version": 3
   },
   "file_extension": ".py",
   "mimetype": "text/x-python",
   "name": "python",
   "nbconvert_exporter": "python",
   "pygments_lexer": "ipython3",
   "version": "3.8.5"
  }
 },
 "nbformat": 4,
 "nbformat_minor": 5
}
